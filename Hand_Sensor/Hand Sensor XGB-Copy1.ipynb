{
 "cells": [
  {
   "cell_type": "markdown",
   "metadata": {},
   "source": [
    "# Hand Gesture Classification Using XGBoost\n",
    "This data set was created using 8 sensors to measure muscle activity over 40 ms intervals for a total of 64 measurements for each sample. The hand gestures are clasified as digits 0-3. They represent \"rock\" , \"sciccors, \"paper\", and \"okay\" respectively. The objective of this project was to accurately classify these gestures based on the mearuments in muscle activity over time. After training and testing the model using ten different folds the mean accuracy was found to be 93.3%."
   ]
  },
  {
   "cell_type": "code",
   "execution_count": 56,
   "metadata": {},
   "outputs": [],
   "source": [
    "import numpy as np\n",
    "import pandas as pd\n",
    "import matplotlib.pyplot as plt\n",
    "import xgboost as xgb\n"
   ]
  },
  {
   "cell_type": "markdown",
   "metadata": {},
   "source": [
    "Load all the csv files into data frames. These files did not contain column labels for the data. Each \"hand gesture\" was loaded into a seperate data frame."
   ]
  },
  {
   "cell_type": "code",
   "execution_count": 57,
   "metadata": {},
   "outputs": [],
   "source": [
    "df0 = pd.read_csv('0.csv', header = None)\n",
    "df1 = pd.read_csv('1.csv', header = None)\n",
    "df2 = pd.read_csv('2.csv', header = None)\n",
    "df3 = pd.read_csv('3.csv', header = None)"
   ]
  },
  {
   "cell_type": "markdown",
   "metadata": {},
   "source": [
    "Concatenate all four data frames into one large data frame for analysis."
   ]
  },
  {
   "cell_type": "code",
   "execution_count": 58,
   "metadata": {},
   "outputs": [],
   "source": [
    "df = pd.concat([df0, df1, df2, df3])"
   ]
  },
  {
   "cell_type": "markdown",
   "metadata": {},
   "source": [
    "First, it is important to inspect the data and make sure there are not any missing values."
   ]
  },
  {
   "cell_type": "code",
   "execution_count": 59,
   "metadata": {},
   "outputs": [
    {
     "name": "stdout",
     "output_type": "stream",
     "text": [
      "<class 'pandas.core.frame.DataFrame'>\n",
      "Int64Index: 11678 entries, 0 to 2921\n",
      "Data columns (total 65 columns):\n",
      "0     11678 non-null float64\n",
      "1     11678 non-null float64\n",
      "2     11678 non-null float64\n",
      "3     11678 non-null float64\n",
      "4     11678 non-null float64\n",
      "5     11678 non-null float64\n",
      "6     11678 non-null float64\n",
      "7     11678 non-null float64\n",
      "8     11678 non-null float64\n",
      "9     11678 non-null float64\n",
      "10    11678 non-null float64\n",
      "11    11678 non-null float64\n",
      "12    11678 non-null float64\n",
      "13    11678 non-null float64\n",
      "14    11678 non-null float64\n",
      "15    11678 non-null float64\n",
      "16    11678 non-null float64\n",
      "17    11678 non-null float64\n",
      "18    11678 non-null float64\n",
      "19    11678 non-null float64\n",
      "20    11678 non-null float64\n",
      "21    11678 non-null float64\n",
      "22    11678 non-null float64\n",
      "23    11678 non-null float64\n",
      "24    11678 non-null float64\n",
      "25    11678 non-null float64\n",
      "26    11678 non-null float64\n",
      "27    11678 non-null float64\n",
      "28    11678 non-null float64\n",
      "29    11678 non-null float64\n",
      "30    11678 non-null float64\n",
      "31    11678 non-null float64\n",
      "32    11678 non-null float64\n",
      "33    11678 non-null float64\n",
      "34    11678 non-null float64\n",
      "35    11678 non-null float64\n",
      "36    11678 non-null float64\n",
      "37    11678 non-null float64\n",
      "38    11678 non-null float64\n",
      "39    11678 non-null float64\n",
      "40    11678 non-null float64\n",
      "41    11678 non-null float64\n",
      "42    11678 non-null float64\n",
      "43    11678 non-null float64\n",
      "44    11678 non-null float64\n",
      "45    11678 non-null float64\n",
      "46    11678 non-null float64\n",
      "47    11678 non-null float64\n",
      "48    11678 non-null float64\n",
      "49    11678 non-null float64\n",
      "50    11678 non-null float64\n",
      "51    11678 non-null float64\n",
      "52    11678 non-null float64\n",
      "53    11678 non-null float64\n",
      "54    11678 non-null float64\n",
      "55    11678 non-null float64\n",
      "56    11678 non-null float64\n",
      "57    11678 non-null float64\n",
      "58    11678 non-null float64\n",
      "59    11678 non-null float64\n",
      "60    11678 non-null float64\n",
      "61    11678 non-null float64\n",
      "62    11678 non-null float64\n",
      "63    11678 non-null float64\n",
      "64    11678 non-null int64\n",
      "dtypes: float64(64), int64(1)\n",
      "memory usage: 5.9 MB\n"
     ]
    }
   ],
   "source": [
    "df.info()"
   ]
  },
  {
   "cell_type": "markdown",
   "metadata": {},
   "source": [
    "There does not appear to be any missing measurements in the data frame. Using describe gives an idea of the distribution of the data."
   ]
  },
  {
   "cell_type": "code",
   "execution_count": 60,
   "metadata": {},
   "outputs": [
    {
     "data": {
      "text/html": [
       "<div>\n",
       "<style scoped>\n",
       "    .dataframe tbody tr th:only-of-type {\n",
       "        vertical-align: middle;\n",
       "    }\n",
       "\n",
       "    .dataframe tbody tr th {\n",
       "        vertical-align: top;\n",
       "    }\n",
       "\n",
       "    .dataframe thead th {\n",
       "        text-align: right;\n",
       "    }\n",
       "</style>\n",
       "<table border=\"1\" class=\"dataframe\">\n",
       "  <thead>\n",
       "    <tr style=\"text-align: right;\">\n",
       "      <th></th>\n",
       "      <th>0</th>\n",
       "      <th>1</th>\n",
       "      <th>2</th>\n",
       "      <th>3</th>\n",
       "      <th>4</th>\n",
       "      <th>5</th>\n",
       "      <th>6</th>\n",
       "      <th>7</th>\n",
       "      <th>8</th>\n",
       "      <th>9</th>\n",
       "      <th>...</th>\n",
       "      <th>55</th>\n",
       "      <th>56</th>\n",
       "      <th>57</th>\n",
       "      <th>58</th>\n",
       "      <th>59</th>\n",
       "      <th>60</th>\n",
       "      <th>61</th>\n",
       "      <th>62</th>\n",
       "      <th>63</th>\n",
       "      <th>64</th>\n",
       "    </tr>\n",
       "  </thead>\n",
       "  <tbody>\n",
       "    <tr>\n",
       "      <th>count</th>\n",
       "      <td>11678.000000</td>\n",
       "      <td>11678.000000</td>\n",
       "      <td>11678.000000</td>\n",
       "      <td>11678.000000</td>\n",
       "      <td>11678.000000</td>\n",
       "      <td>11678.000000</td>\n",
       "      <td>11678.000000</td>\n",
       "      <td>11678.000000</td>\n",
       "      <td>11678.000000</td>\n",
       "      <td>11678.000000</td>\n",
       "      <td>...</td>\n",
       "      <td>11678.000000</td>\n",
       "      <td>11678.000000</td>\n",
       "      <td>11678.000000</td>\n",
       "      <td>11678.000000</td>\n",
       "      <td>11678.000000</td>\n",
       "      <td>11678.000000</td>\n",
       "      <td>11678.000000</td>\n",
       "      <td>11678.000000</td>\n",
       "      <td>11678.000000</td>\n",
       "      <td>11678.000000</td>\n",
       "    </tr>\n",
       "    <tr>\n",
       "      <th>mean</th>\n",
       "      <td>-0.520380</td>\n",
       "      <td>-0.726837</td>\n",
       "      <td>-0.739082</td>\n",
       "      <td>-0.729748</td>\n",
       "      <td>-0.159103</td>\n",
       "      <td>-0.554890</td>\n",
       "      <td>-1.272649</td>\n",
       "      <td>-0.661843</td>\n",
       "      <td>-0.665953</td>\n",
       "      <td>-0.654222</td>\n",
       "      <td>...</td>\n",
       "      <td>-0.932694</td>\n",
       "      <td>-0.836958</td>\n",
       "      <td>-0.740623</td>\n",
       "      <td>-0.768710</td>\n",
       "      <td>-0.705343</td>\n",
       "      <td>-0.146686</td>\n",
       "      <td>-0.374807</td>\n",
       "      <td>-1.449306</td>\n",
       "      <td>-0.609094</td>\n",
       "      <td>1.503254</td>\n",
       "    </tr>\n",
       "    <tr>\n",
       "      <th>std</th>\n",
       "      <td>18.566709</td>\n",
       "      <td>11.766878</td>\n",
       "      <td>4.989944</td>\n",
       "      <td>7.441675</td>\n",
       "      <td>17.850402</td>\n",
       "      <td>25.809528</td>\n",
       "      <td>25.089972</td>\n",
       "      <td>15.408896</td>\n",
       "      <td>18.123854</td>\n",
       "      <td>11.841260</td>\n",
       "      <td>...</td>\n",
       "      <td>15.158993</td>\n",
       "      <td>18.204465</td>\n",
       "      <td>12.005206</td>\n",
       "      <td>4.969758</td>\n",
       "      <td>7.384410</td>\n",
       "      <td>17.841479</td>\n",
       "      <td>25.551082</td>\n",
       "      <td>25.259736</td>\n",
       "      <td>15.530091</td>\n",
       "      <td>1.117541</td>\n",
       "    </tr>\n",
       "    <tr>\n",
       "      <th>min</th>\n",
       "      <td>-116.000000</td>\n",
       "      <td>-104.000000</td>\n",
       "      <td>-33.000000</td>\n",
       "      <td>-75.000000</td>\n",
       "      <td>-121.000000</td>\n",
       "      <td>-122.000000</td>\n",
       "      <td>-128.000000</td>\n",
       "      <td>-128.000000</td>\n",
       "      <td>-110.000000</td>\n",
       "      <td>-128.000000</td>\n",
       "      <td>...</td>\n",
       "      <td>-128.000000</td>\n",
       "      <td>-116.000000</td>\n",
       "      <td>-128.000000</td>\n",
       "      <td>-46.000000</td>\n",
       "      <td>-74.000000</td>\n",
       "      <td>-103.000000</td>\n",
       "      <td>-128.000000</td>\n",
       "      <td>-128.000000</td>\n",
       "      <td>-124.000000</td>\n",
       "      <td>0.000000</td>\n",
       "    </tr>\n",
       "    <tr>\n",
       "      <th>25%</th>\n",
       "      <td>-9.000000</td>\n",
       "      <td>-4.000000</td>\n",
       "      <td>-3.000000</td>\n",
       "      <td>-4.000000</td>\n",
       "      <td>-10.000000</td>\n",
       "      <td>-15.000000</td>\n",
       "      <td>-6.000000</td>\n",
       "      <td>-8.000000</td>\n",
       "      <td>-9.000000</td>\n",
       "      <td>-4.000000</td>\n",
       "      <td>...</td>\n",
       "      <td>-8.000000</td>\n",
       "      <td>-9.000000</td>\n",
       "      <td>-4.000000</td>\n",
       "      <td>-3.000000</td>\n",
       "      <td>-4.000000</td>\n",
       "      <td>-10.000000</td>\n",
       "      <td>-14.000000</td>\n",
       "      <td>-6.000000</td>\n",
       "      <td>-8.000000</td>\n",
       "      <td>1.000000</td>\n",
       "    </tr>\n",
       "    <tr>\n",
       "      <th>50%</th>\n",
       "      <td>-1.000000</td>\n",
       "      <td>-1.000000</td>\n",
       "      <td>-1.000000</td>\n",
       "      <td>-1.000000</td>\n",
       "      <td>0.000000</td>\n",
       "      <td>-1.000000</td>\n",
       "      <td>-1.000000</td>\n",
       "      <td>-1.000000</td>\n",
       "      <td>-1.000000</td>\n",
       "      <td>-1.000000</td>\n",
       "      <td>...</td>\n",
       "      <td>-1.000000</td>\n",
       "      <td>-1.000000</td>\n",
       "      <td>-1.000000</td>\n",
       "      <td>-1.000000</td>\n",
       "      <td>-1.000000</td>\n",
       "      <td>0.000000</td>\n",
       "      <td>-1.000000</td>\n",
       "      <td>-1.000000</td>\n",
       "      <td>-1.000000</td>\n",
       "      <td>2.000000</td>\n",
       "    </tr>\n",
       "    <tr>\n",
       "      <th>75%</th>\n",
       "      <td>7.000000</td>\n",
       "      <td>3.000000</td>\n",
       "      <td>2.000000</td>\n",
       "      <td>3.000000</td>\n",
       "      <td>10.000000</td>\n",
       "      <td>13.000000</td>\n",
       "      <td>4.000000</td>\n",
       "      <td>6.000000</td>\n",
       "      <td>6.000000</td>\n",
       "      <td>3.000000</td>\n",
       "      <td>...</td>\n",
       "      <td>6.000000</td>\n",
       "      <td>6.000000</td>\n",
       "      <td>3.000000</td>\n",
       "      <td>2.000000</td>\n",
       "      <td>3.000000</td>\n",
       "      <td>10.000000</td>\n",
       "      <td>13.000000</td>\n",
       "      <td>3.000000</td>\n",
       "      <td>6.000000</td>\n",
       "      <td>3.000000</td>\n",
       "    </tr>\n",
       "    <tr>\n",
       "      <th>max</th>\n",
       "      <td>111.000000</td>\n",
       "      <td>90.000000</td>\n",
       "      <td>34.000000</td>\n",
       "      <td>55.000000</td>\n",
       "      <td>92.000000</td>\n",
       "      <td>127.000000</td>\n",
       "      <td>127.000000</td>\n",
       "      <td>126.000000</td>\n",
       "      <td>127.000000</td>\n",
       "      <td>106.000000</td>\n",
       "      <td>...</td>\n",
       "      <td>114.000000</td>\n",
       "      <td>127.000000</td>\n",
       "      <td>105.000000</td>\n",
       "      <td>29.000000</td>\n",
       "      <td>51.000000</td>\n",
       "      <td>110.000000</td>\n",
       "      <td>127.000000</td>\n",
       "      <td>127.000000</td>\n",
       "      <td>127.000000</td>\n",
       "      <td>3.000000</td>\n",
       "    </tr>\n",
       "  </tbody>\n",
       "</table>\n",
       "<p>8 rows × 65 columns</p>\n",
       "</div>"
      ],
      "text/plain": [
       "                 0             1             2             3             4   \\\n",
       "count  11678.000000  11678.000000  11678.000000  11678.000000  11678.000000   \n",
       "mean      -0.520380     -0.726837     -0.739082     -0.729748     -0.159103   \n",
       "std       18.566709     11.766878      4.989944      7.441675     17.850402   \n",
       "min     -116.000000   -104.000000    -33.000000    -75.000000   -121.000000   \n",
       "25%       -9.000000     -4.000000     -3.000000     -4.000000    -10.000000   \n",
       "50%       -1.000000     -1.000000     -1.000000     -1.000000      0.000000   \n",
       "75%        7.000000      3.000000      2.000000      3.000000     10.000000   \n",
       "max      111.000000     90.000000     34.000000     55.000000     92.000000   \n",
       "\n",
       "                 5             6             7             8             9   \\\n",
       "count  11678.000000  11678.000000  11678.000000  11678.000000  11678.000000   \n",
       "mean      -0.554890     -1.272649     -0.661843     -0.665953     -0.654222   \n",
       "std       25.809528     25.089972     15.408896     18.123854     11.841260   \n",
       "min     -122.000000   -128.000000   -128.000000   -110.000000   -128.000000   \n",
       "25%      -15.000000     -6.000000     -8.000000     -9.000000     -4.000000   \n",
       "50%       -1.000000     -1.000000     -1.000000     -1.000000     -1.000000   \n",
       "75%       13.000000      4.000000      6.000000      6.000000      3.000000   \n",
       "max      127.000000    127.000000    126.000000    127.000000    106.000000   \n",
       "\n",
       "           ...                 55            56            57            58  \\\n",
       "count      ...       11678.000000  11678.000000  11678.000000  11678.000000   \n",
       "mean       ...          -0.932694     -0.836958     -0.740623     -0.768710   \n",
       "std        ...          15.158993     18.204465     12.005206      4.969758   \n",
       "min        ...        -128.000000   -116.000000   -128.000000    -46.000000   \n",
       "25%        ...          -8.000000     -9.000000     -4.000000     -3.000000   \n",
       "50%        ...          -1.000000     -1.000000     -1.000000     -1.000000   \n",
       "75%        ...           6.000000      6.000000      3.000000      2.000000   \n",
       "max        ...         114.000000    127.000000    105.000000     29.000000   \n",
       "\n",
       "                 59            60            61            62            63  \\\n",
       "count  11678.000000  11678.000000  11678.000000  11678.000000  11678.000000   \n",
       "mean      -0.705343     -0.146686     -0.374807     -1.449306     -0.609094   \n",
       "std        7.384410     17.841479     25.551082     25.259736     15.530091   \n",
       "min      -74.000000   -103.000000   -128.000000   -128.000000   -124.000000   \n",
       "25%       -4.000000    -10.000000    -14.000000     -6.000000     -8.000000   \n",
       "50%       -1.000000      0.000000     -1.000000     -1.000000     -1.000000   \n",
       "75%        3.000000     10.000000     13.000000      3.000000      6.000000   \n",
       "max       51.000000    110.000000    127.000000    127.000000    127.000000   \n",
       "\n",
       "                 64  \n",
       "count  11678.000000  \n",
       "mean       1.503254  \n",
       "std        1.117541  \n",
       "min        0.000000  \n",
       "25%        1.000000  \n",
       "50%        2.000000  \n",
       "75%        3.000000  \n",
       "max        3.000000  \n",
       "\n",
       "[8 rows x 65 columns]"
      ]
     },
     "execution_count": 60,
     "metadata": {},
     "output_type": "execute_result"
    }
   ],
   "source": [
    "df.describe()"
   ]
  },
  {
   "cell_type": "code",
   "execution_count": 61,
   "metadata": {},
   "outputs": [
    {
     "data": {
      "text/plain": [
       "(11678, 65)"
      ]
     },
     "execution_count": 61,
     "metadata": {},
     "output_type": "execute_result"
    }
   ],
   "source": [
    "df.shape"
   ]
  },
  {
   "cell_type": "markdown",
   "metadata": {},
   "source": [
    "Next, the feautres and target data need to be seperated into two seperate arrays. "
   ]
  },
  {
   "cell_type": "code",
   "execution_count": 62,
   "metadata": {},
   "outputs": [],
   "source": [
    "features = df.iloc[:, :-1].values\n",
    "target = df.iloc[: , -1].values"
   ]
  },
  {
   "cell_type": "code",
   "execution_count": 63,
   "metadata": {},
   "outputs": [
    {
     "data": {
      "text/plain": [
       "(11678,)"
      ]
     },
     "execution_count": 63,
     "metadata": {},
     "output_type": "execute_result"
    }
   ],
   "source": [
    "features.shape\n",
    "target.shape"
   ]
  },
  {
   "cell_type": "code",
   "execution_count": 64,
   "metadata": {},
   "outputs": [
    {
     "data": {
      "text/plain": [
       "(11678, 64)"
      ]
     },
     "execution_count": 64,
     "metadata": {},
     "output_type": "execute_result"
    }
   ],
   "source": [
    "features.shape"
   ]
  },
  {
   "cell_type": "markdown",
   "metadata": {},
   "source": [
    "Use standard scalar to ensure standard deviation is 1 for all columns and that all measurements are represented on a similar scale."
   ]
  },
  {
   "cell_type": "code",
   "execution_count": 65,
   "metadata": {},
   "outputs": [],
   "source": [
    "from sklearn.preprocessing import StandardScaler"
   ]
  },
  {
   "cell_type": "code",
   "execution_count": 66,
   "metadata": {},
   "outputs": [],
   "source": [
    "sc = StandardScaler()"
   ]
  },
  {
   "cell_type": "code",
   "execution_count": 67,
   "metadata": {},
   "outputs": [],
   "source": [
    "features = sc.fit_transform(features)"
   ]
  },
  {
   "cell_type": "markdown",
   "metadata": {},
   "source": [
    "Check to see that the fit_tranform method worked on all features by showing the standard deviation of all columns."
   ]
  },
  {
   "cell_type": "code",
   "execution_count": 68,
   "metadata": {},
   "outputs": [
    {
     "data": {
      "text/plain": [
       "array([1., 1., 1., 1., 1., 1., 1., 1., 1., 1., 1., 1., 1., 1., 1., 1., 1.,\n",
       "       1., 1., 1., 1., 1., 1., 1., 1., 1., 1., 1., 1., 1., 1., 1., 1., 1.,\n",
       "       1., 1., 1., 1., 1., 1., 1., 1., 1., 1., 1., 1., 1., 1., 1., 1., 1.,\n",
       "       1., 1., 1., 1., 1., 1., 1., 1., 1., 1., 1., 1., 1.])"
      ]
     },
     "execution_count": 68,
     "metadata": {},
     "output_type": "execute_result"
    }
   ],
   "source": [
    "features.std(0)"
   ]
  },
  {
   "cell_type": "markdown",
   "metadata": {},
   "source": [
    "Use the features and target data to train an XGBoost model. \n",
    "\n",
    "Initially I split the training and testing data to create and verify an XGB classifier model but after learning more about k means and cross validation from sklearn I decided that cross_val_score would give a more realistic representation of how well the model would generalize to data outside of the sample given.\n"
   ]
  },
  {
   "cell_type": "code",
   "execution_count": 69,
   "metadata": {},
   "outputs": [
    {
     "data": {
      "text/plain": [
       "XGBClassifier(base_score=0.5, booster='gbtree', colsample_bylevel=1,\n",
       "       colsample_bytree=1, gamma=0, learning_rate=0.05, max_delta_step=0,\n",
       "       max_depth=3, min_child_weight=1, missing=None, n_estimators=300,\n",
       "       n_jobs=1, nthread=None, objective='multi:softprob', random_state=0,\n",
       "       reg_alpha=0, reg_lambda=1, scale_pos_weight=1, seed=None,\n",
       "       silent=True, subsample=1)"
      ]
     },
     "execution_count": 69,
     "metadata": {},
     "output_type": "execute_result"
    }
   ],
   "source": [
    "model = xgb.XGBClassifier(max_depth=3, n_estimators=300, learning_rate=0.05)\n",
    "model.fit(features, target)"
   ]
  },
  {
   "cell_type": "code",
   "execution_count": 44,
   "metadata": {},
   "outputs": [],
   "source": [
    "from sklearn.model_selection import cross_val_score"
   ]
  },
  {
   "cell_type": "code",
   "execution_count": 45,
   "metadata": {},
   "outputs": [
    {
     "name": "stderr",
     "output_type": "stream",
     "text": [
      "/anaconda2/lib/python2.7/site-packages/sklearn/preprocessing/label.py:151: DeprecationWarning: The truth value of an empty array is ambiguous. Returning False, but in future this will result in an error. Use `array.size > 0` to check that an array is not empty.\n",
      "  if diff:\n",
      "/anaconda2/lib/python2.7/site-packages/sklearn/preprocessing/label.py:151: DeprecationWarning: The truth value of an empty array is ambiguous. Returning False, but in future this will result in an error. Use `array.size > 0` to check that an array is not empty.\n",
      "  if diff:\n",
      "/anaconda2/lib/python2.7/site-packages/sklearn/preprocessing/label.py:151: DeprecationWarning: The truth value of an empty array is ambiguous. Returning False, but in future this will result in an error. Use `array.size > 0` to check that an array is not empty.\n",
      "  if diff:\n",
      "/anaconda2/lib/python2.7/site-packages/sklearn/preprocessing/label.py:151: DeprecationWarning: The truth value of an empty array is ambiguous. Returning False, but in future this will result in an error. Use `array.size > 0` to check that an array is not empty.\n",
      "  if diff:\n",
      "/anaconda2/lib/python2.7/site-packages/sklearn/preprocessing/label.py:151: DeprecationWarning: The truth value of an empty array is ambiguous. Returning False, but in future this will result in an error. Use `array.size > 0` to check that an array is not empty.\n",
      "  if diff:\n",
      "/anaconda2/lib/python2.7/site-packages/sklearn/preprocessing/label.py:151: DeprecationWarning: The truth value of an empty array is ambiguous. Returning False, but in future this will result in an error. Use `array.size > 0` to check that an array is not empty.\n",
      "  if diff:\n",
      "/anaconda2/lib/python2.7/site-packages/sklearn/preprocessing/label.py:151: DeprecationWarning: The truth value of an empty array is ambiguous. Returning False, but in future this will result in an error. Use `array.size > 0` to check that an array is not empty.\n",
      "  if diff:\n",
      "/anaconda2/lib/python2.7/site-packages/sklearn/preprocessing/label.py:151: DeprecationWarning: The truth value of an empty array is ambiguous. Returning False, but in future this will result in an error. Use `array.size > 0` to check that an array is not empty.\n",
      "  if diff:\n",
      "/anaconda2/lib/python2.7/site-packages/sklearn/preprocessing/label.py:151: DeprecationWarning: The truth value of an empty array is ambiguous. Returning False, but in future this will result in an error. Use `array.size > 0` to check that an array is not empty.\n",
      "  if diff:\n",
      "/anaconda2/lib/python2.7/site-packages/sklearn/preprocessing/label.py:151: DeprecationWarning: The truth value of an empty array is ambiguous. Returning False, but in future this will result in an error. Use `array.size > 0` to check that an array is not empty.\n",
      "  if diff:\n"
     ]
    }
   ],
   "source": [
    "scores = cross_val_score(model, features, target, cv = 10, scoring = 'accuracy')"
   ]
  },
  {
   "cell_type": "code",
   "execution_count": 46,
   "metadata": {},
   "outputs": [
    {
     "name": "stdout",
     "output_type": "stream",
     "text": [
      "0.9338781688767066\n"
     ]
    }
   ],
   "source": [
    "print(scores.mean())"
   ]
  },
  {
   "cell_type": "code",
   "execution_count": null,
   "metadata": {},
   "outputs": [],
   "source": []
  }
 ],
 "metadata": {
  "kernelspec": {
   "display_name": "Python 2",
   "language": "python",
   "name": "python2"
  },
  "language_info": {
   "codemirror_mode": {
    "name": "ipython",
    "version": 2
   },
   "file_extension": ".py",
   "mimetype": "text/x-python",
   "name": "python",
   "nbconvert_exporter": "python",
   "pygments_lexer": "ipython2",
   "version": "2.7.15"
  }
 },
 "nbformat": 4,
 "nbformat_minor": 2
}
